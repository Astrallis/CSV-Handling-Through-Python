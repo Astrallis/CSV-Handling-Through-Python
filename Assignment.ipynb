{
 "cells": [
  {
   "cell_type": "code",
   "execution_count": 71,
   "metadata": {},
   "outputs": [],
   "source": [
    "import csv\n",
    "with open('new_records.csv', 'r') as new_rec,open('employee_list.csv', 'a') as origin_rec:\n",
    "    reader = csv.reader(new_rec)\n",
    "    writer = csv.writer(origin_rec)\n",
    "    \n",
    "    for row in reader:\n",
    "        if(row[0][:3]=='emp'):\n",
    "          row[0]=row[0][3:]  \n",
    "          name=row[1].split(),           \"\"\"For Splitting first name and last name\"\"\"\n",
    "          row.remove(row[1])\n",
    "          row.insert(1,name[0][0])\n",
    "          row.insert(2,name[0][1])\n",
    "          writer.writerow(row)\n",
    "\n",
    "\n",
    "with open('new_records.csv', 'r') as new_rec,open('contractors_list.csv', 'a') as origin_rec:\n",
    "    reader = csv.reader(new_rec)\n",
    "    writer = csv.writer(origin_rec)\n",
    "    \n",
    "    for row in reader:\n",
    "        if(row[0][:3]!='emp'):\n",
    "          row[0]=row[0][3:]  \n",
    "          name=row[1].split(),           \"\"\"For Splitting first name and last name\"\"\"\n",
    "          row.remove(row[1])\n",
    "          row.insert(1,name[0][0])\n",
    "          row.insert(2,name[0][1])\n",
    "          writer.writerow(row)\n",
    "    \n",
    "\n",
    "        \n",
    "        "
   ]
  },
  {
   "cell_type": "code",
   "execution_count": null,
   "metadata": {},
   "outputs": [],
   "source": []
  },
  {
   "cell_type": "code",
   "execution_count": null,
   "metadata": {},
   "outputs": [],
   "source": []
  }
 ],
 "metadata": {
  "kernelspec": {
   "display_name": "Python 3",
   "language": "python",
   "name": "python3"
  },
  "language_info": {
   "codemirror_mode": {
    "name": "ipython",
    "version": 3
   },
   "file_extension": ".py",
   "mimetype": "text/x-python",
   "name": "python",
   "nbconvert_exporter": "python",
   "pygments_lexer": "ipython3",
   "version": "3.7.3"
  }
 },
 "nbformat": 4,
 "nbformat_minor": 2
}
